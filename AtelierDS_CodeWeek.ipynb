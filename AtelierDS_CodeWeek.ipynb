{
 "cells": [
  {
   "cell_type": "markdown",
   "metadata": {},
   "source": [
    "# TOULOUSE DATA SCIENCE  Code Week\n",
    "## Atelier découverte de la Data Science\n",
    "### _N. Salaün-Penquer (trésorière TDS)_\n",
    "### _N. Decoster_\n"
   ]
  },
  {
   "cell_type": "code",
   "execution_count": 2,
   "metadata": {
    "collapsed": true
   },
   "outputs": [],
   "source": [
    "from math import *\n",
    "from decimal import Decimal \n",
    "from __future__ import division \n",
    "import random\n",
    "import csv\n",
    "from IPython.display import Image"
   ]
  },
  {
   "cell_type": "markdown",
   "metadata": {},
   "source": [
    "## Classification non supervisée"
   ]
  },
  {
   "cell_type": "markdown",
   "metadata": {},
   "source": [
    "**_Définition_**: Les classifications non supervisées sont des classifications qui construisent leurs clusters en se basant uniquement sur la donnée. \n",
    "\n",
    "**_Objectifs_**: Observer, sans a priori la présence de groupes.\n",
    "\n",
    "**_Méthodes les plus connues_**: \n",
    "\n",
    "* Kmeans\n",
    "* Classification hierarchique ascendante\n",
    "* Dbscan\n",
    "* Pam\n"
   ]
  },
  {
   "cell_type": "markdown",
   "metadata": {},
   "source": [
    "### A- Kmeans"
   ]
  },
  {
   "cell_type": "code",
   "execution_count": 12,
   "metadata": {
    "collapsed": false
   },
   "outputs": [],
   "source": [
    "# Initialisation d'un data\n",
    "X = [[random.randint(1,10)] for _ in range(20)]\n",
    "Y =[[random.randint(1,10)] for _ in range(20)]"
   ]
  },
  {
   "cell_type": "code",
   "execution_count": 123,
   "metadata": {
    "collapsed": false
   },
   "outputs": [
    {
     "name": "stdout",
     "output_type": "stream",
     "text": [
      "A vous de jouer!\n"
     ]
    }
   ],
   "source": [
    "# La fonction des Kmeans(dataSet,nbClusters,fonctionDistance,nbIterMax)\n",
    "# paramètres:\n",
    "    # dataSet: liste de points\n",
    "    # nbClusters: nb classes\n",
    "    # fonctionDistance: une fonction de distance -euclidienne -manhattan\n",
    "    # nbIterMax: itération max (pour éviter de tourner en rond)\n",
    "print('A vous de jouer!')"
   ]
  },
  {
   "cell_type": "code",
   "execution_count": null,
   "metadata": {
    "collapsed": true
   },
   "outputs": [],
   "source": [
    "###\n",
    "# Manipulation de la fonction #\n",
    "###"
   ]
  },
  {
   "cell_type": "code",
   "execution_count": null,
   "metadata": {
    "collapsed": true
   },
   "outputs": [],
   "source": [
    "# Exemple d'un cas pratique, un professeur souhaite construire X groupe homogène en fonction des notes des élèves\n",
    "with open('C:\\Users\\lata\\Desktop\\exemple.csv', 'rb') as f:\n",
    "    dataSet = [[int(x) for x in rec] for rec in csv.reader(f, delimiter=';')]\n",
    "print('A vous de jouer!')"
   ]
  },
  {
   "cell_type": "code",
   "execution_count": null,
   "metadata": {
    "collapsed": true
   },
   "outputs": [],
   "source": [
    "###\n",
    "# Utilisation sur un cas réel #\n",
    "###"
   ]
  },
  {
   "cell_type": "code",
   "execution_count": null,
   "metadata": {
    "collapsed": true
   },
   "outputs": [],
   "source": [
    "### VISUALISATION"
   ]
  },
  {
   "cell_type": "code",
   "execution_count": 16,
   "metadata": {
    "collapsed": false
   },
   "outputs": [
    {
     "data": {
      "text/plain": [
       "<matplotlib.collections.PathCollection at 0xd4ae400>"
      ]
     },
     "execution_count": 16,
     "metadata": {},
     "output_type": "execute_result"
    },
    {
     "data": {
      "image/png": "[encoded data removed]",
      "text/plain": [
       "<matplotlib.figure.Figure at 0xd2f2a20>"
      ]
     },
     "metadata": {},
     "output_type": "display_data"
    }
   ],
   "source": [
    "from matplotlib import pyplot\n",
    "import numpy as np\n",
    "%matplotlib inline\n",
    "pyplot.scatter(X,Y,color='red')"
   ]
  },
  {
   "cell_type": "markdown",
   "metadata": {},
   "source": [
    "## On s'y met?!\n",
    "### L'implémentation de la fonction"
   ]
  },
  {
   "cell_type": "markdown",
   "metadata": {},
   "source": [
    "Vous connaissez l'algo? A vous de jouer!"
   ]
  },
  {
   "cell_type": "code",
   "execution_count": 126,
   "metadata": {
    "collapsed": false
   },
   "outputs": [
    {
     "name": "stdout",
     "output_type": "stream",
     "text": [
      "On vous aide un peu :) \n",
      "Ajoutez les fonctions avec les bons paramètres\n",
      "Le détail des fonctions se trouve dans le bloc suivant\n"
     ]
    }
   ],
   "source": [
    "print('On vous aide un peu :) ')\n",
    "def kmeansTest(data, nbC, fonctionD, iterMax):\n",
    "    dimD=len(data[0])\n",
    "    fin=1\n",
    "    nbIteration=0\n",
    "    # Ajout de la fonction de construction des centroides \n",
    "    #centroidesInit=\n",
    "    # Boucle tant que\n",
    "    while nbIteration < iterMax and fin:\n",
    "        # fonction initialisation des classes\n",
    "        # nvClasse=\n",
    "        # fonction de classement des points (listeClasse, listeCentroides, listePoints, fonctionDistance)\n",
    "        # nvClasse= \n",
    "        # fonction de calcul du nouveau centroïde de chaque classe\n",
    "        # centroidesNv,fin=\n",
    "        # si les barycentres n'ont pas bougé\n",
    "        if centroidesNv==centroidesInit:\n",
    "            fin=0\n",
    "        if fin:\n",
    "                centroidesInit=centroidesNv\n",
    "        nbIteration+=1\n",
    "    if nbIteration==iterMax:\n",
    "        print('nb itération max')\n",
    "    return nvClasse\n",
    "print('Ajoutez les fonctions avec les bons paramètres')\n",
    "print('Le détail des fonctions se trouve dans le bloc suivant')"
   ]
  },
  {
   "cell_type": "markdown",
   "metadata": {},
   "source": [
    "**initialisationCentroides** (dim, nbClusters) : Initialise des centroïdes aléatoires (entiers compris entre 1 et 20)\n",
    "    # dim: dimension\n",
    "    # nbClusters: nb de classes choisies\n",
    "**initialisationClasses** (nbClusters): Initialise _nbClusters_ classes vides \n",
    "    # nbClusters: nb de classes choisies\n",
    "**constructionClasses** (listeClasse, listeCentroides, listePoints, fonctionDistance): construit les classes en fonction de la distance de chaque point aux centroïdes\n",
    "    # listeClasse : liste initialisée et vide des classes\n",
    "    # listeCentroides: liste des centroïdes\n",
    "    # listePoints: Data set\n",
    "    # fonctionDistance: distanceEuclidienne ou distanceManhattan\n",
    "**calculCentroides** (listeClasse): calcul les nouveaux centroïdes + vérifie qu'aucun groupe n'est vide\n",
    "    # listeClasse: classes construites"
   ]
  },
  {
   "cell_type": "code",
   "execution_count": 138,
   "metadata": {
    "collapsed": false
   },
   "outputs": [
    {
     "name": "stdout",
     "output_type": "stream",
     "text": [
      "Et sinon: lancez-vous dans l'implémentation des sous fonctions!\n",
      "Et on continue :) \n"
     ]
    }
   ],
   "source": [
    "print('Et sinon: lancez-vous dans l\\'implémentation des sous fonctions!')\n",
    "\n",
    "def maDistanceE(A,B):\n",
    "    return 0\n",
    "\n",
    "def maDistanceM(A,B):\n",
    "    return 0\n",
    "\n",
    "def monInitClasses(dim, nbClusters):\n",
    "    return 0\n",
    "\n",
    "print('Et on continue :) ') \n",
    "\n"
   ]
  },
  {
   "cell_type": "markdown",
   "metadata": {},
   "source": [
    "## Les limites de l'algo\n",
    "### 1- Data de type numérique (passage par des matrices de similarité)\n",
    "### 2- Nb de classes à préciser \n",
    "### 3- Construction de classes parfois différentes\n",
    "### 4- Mauvais classement pour certains types de data"
   ]
  },
  {
   "cell_type": "code",
   "execution_count": null,
   "metadata": {
    "collapsed": true
   },
   "outputs": [],
   "source": [
    "# Exemple d'un mauvais classement\n",
    "# Ouverture vers Scikit Learn"
   ]
  },
  {
   "cell_type": "markdown",
   "metadata": {},
   "source": [
    "# A exécuter : fonctions outils"
   ]
  },
  {
   "cell_type": "code",
   "execution_count": 120,
   "metadata": {
    "collapsed": false
   },
   "outputs": [
    {
     "name": "stdout",
     "output_type": "stream",
     "text": [
      "En vert la distance euclidienne\n",
      "Les autres couleurs, la distance de Mahattan\n"
     ]
    }
   ],
   "source": [
    "def barycentre(listeP):\n",
    "    nbE=len(listeP)\n",
    "    dim=len(listeP[0])\n",
    "    centre=[0]*dim\n",
    "    for i in range (nbE):\n",
    "        for j in range(dim):\n",
    "            centre[j]+=listeP[i][j]\n",
    "            j+=1\n",
    "        i+=1\n",
    "    return [i/nbE for i in centre]\n",
    "\n",
    "# Calcul des centroides aléatoires\n",
    "def centroidesAleatoire(dim):\n",
    "    res=[]\n",
    "    for i in range(dim):\n",
    "        res+=[random.randint(1,10)]\n",
    "    return res\n",
    "\n",
    "def initialisationClasses(nbClusters):\n",
    "    return [[] for _ in range(nbClusters)]\n",
    "\n",
    "def constructionClasses(listeClasse, listeCentroides, listePoints, fonctionDistance):\n",
    "    nbC=len(listeCentroides)\n",
    "    nbP=len(listePoints)\n",
    "    for i in range(nbP):\n",
    "        # distance du point avc le premier centroide\n",
    "        d1=[fonctionDistance(listeCentroides[0],listePoints[i]),0]\n",
    "        j=1\n",
    "        while j < nbC:\n",
    "            d2=fonctionDistance(listeCentroides[j],listePoints[i])\n",
    "            if d2 < d1[0]:\n",
    "                d1=[d2,j]\n",
    "            j+=1\n",
    "        listeClasse[d1[1]]+=[listePoints[i]]\n",
    "        i+=1\n",
    "    return listeClasse\n",
    "\n",
    "def calculCentroides(listeClasse):\n",
    "    nbC=len(listeClasse)\n",
    "    nvCentroide=[]\n",
    "    ok=1\n",
    "    for i in range(nbC):\n",
    "        if len(listeClasse[i]):\n",
    "            nvCentroide+=[barycentre(listeClasse[i])]\n",
    "        else:\n",
    "            print('Une classe est vide')\n",
    "            nvCentroide+=[[ [] for _ in range(nbC)]]\n",
    "            ok=0\n",
    "    return nvCentroide, ok\n",
    "\n",
    "def initialisationCentroides(dim, nbCluster):\n",
    "    return [centroidesAleatoire(dim) for _ in range(nbCluster)]\n",
    "\n",
    "# Définition du Kmeans revoir le nb de cluster\n",
    "def kmeans_versionSimpliste(data, nbClusters, fonctionDistance, iterMax):\n",
    "    dimD=len(data[0])\n",
    "    fin=1\n",
    "    nbIteration=0\n",
    "    # fonction de construction des centroides \n",
    "    centroidesInit=initialisationCentroides(dimD,nbClusters)\n",
    "    # Boucle tant que\n",
    "    while nbIteration < iterMax and fin:\n",
    "        # fonction initialisation des classes\n",
    "        nvClasse=initialisationClasses(nbClusters)\n",
    "        # fonction de classement des points (listeClasse, listeCentroides, listePoints, fonctionDistance)\n",
    "        nvClasse= constructionClasses(nvClasse,centroidesInit,data,fonctionDistance)\n",
    "        # fonction de calcul du nouveau centroïde de chaque classe\n",
    "        centroidesNv,fin=calculCentroides(nvClasse)\n",
    "        if centroidesNv==centroidesInit:\n",
    "            fin=0\n",
    "        if fin:\n",
    "                centroidesInit=centroidesNv\n",
    "        nbIteration+=1\n",
    "    if nbIteration==iterMax:\n",
    "        print('nb itération max')\n",
    "    return nvClasse\n",
    "\n",
    "# Définition d'une fonction de distance\n",
    "# Distance Euclidienne\n",
    "# La plus basique, c'est la longeur du trait qui permet de relier deux points entre eux\n",
    "def distanceEuclidienne(A,B):\n",
    "    return sqrt(pow(B[0]-A[0],2)+pow(B[1]-A[1],2))\n",
    "# Distance de Manhattan\n",
    "# appelée aussi taxi-distance3, est la distance entre deux points parcourue par un taxi \n",
    "#lorsqu'il se déplace dans une ville où les rues sont agencées selon un réseau ou quadrillage\n",
    "def distanceManhattan(A,B):\n",
    "    return abs(B[0]-A[0])+abs(B[1]-A[1])\n",
    "# Différence entre les distances\n",
    "\n",
    "print('En vert la distance euclidienne')\n",
    "print('Les autres couleurs, la distance de Mahattan')\n",
    "Image(filename='C:\\Users\\lata\\Desktop\\image1.png')\n",
    "# Définitions plus complètes \n",
    "def manhattan_distance(x,y):\n",
    "    return sum(abs(a-b) for a,b in zip(x,y))\n",
    "def euclidean_distance(x,y):\n",
    "    return sqrt(sum(pow(a-b,2) for a, b in zip(x, y)))\n",
    "def minkowski_distance(x,y,p_value):\n",
    "    return nth_root(sum(pow(abs(a-b),p_value) for a,b in zip(x, y)),p_value)\n",
    "\n",
    "# Définition sous fonctions\n",
    "def nth_root(value, n_root):\n",
    "    root_value = 1/float(n_root)\n",
    "    return round (Decimal(value) ** Decimal(root_value),3)\n",
    "\n",
    "# Exemples\n",
    "#print(manhattan_distance(data[1],data[0]))\n",
    "#print(euclidean_distance(data[1],data[0]))\n",
    "#print (minkowski_distance(data[1],data[0],2))\n",
    "\n",
    "# http://dataaspirant.com/2015/04/11/five-most-popular-similarity-measures-implementation-in-python/\n",
    "# Distance par mesure de cosinus et distance de Jaccard"
   ]
  },
  {
   "cell_type": "code",
   "execution_count": null,
   "metadata": {
    "collapsed": true
   },
   "outputs": [],
   "source": [
    "\n",
    "# Nettoyage du Data:\n",
    "    # traitement des var incohérentes\n",
    "    # traitement des valeurs vides\n",
    "    # traitement des erreurs (encodage)\n",
    "# Stat de vérif"
   ]
  },
  {
   "cell_type": "markdown",
   "metadata": {},
   "source": [
    "### Solutions"
   ]
  },
  {
   "cell_type": "code",
   "execution_count": 134,
   "metadata": {
    "collapsed": false
   },
   "outputs": [
    {
     "data": {
      "text/plain": [
       "[[[9, 10], [9, 10], [10, 8], [9, 7]],\n",
       " [[3, 4], [3, 5], [4, 2], [4, 5], [4, 5]],\n",
       " [[3, 7], [4, 6], [6, 7], [3, 8], [3, 7], [3, 8]],\n",
       " [[10, 3]],\n",
       " [[2, 10], [2, 6], [1, 5], [1, 10]]]"
      ]
     },
     "execution_count": 134,
     "metadata": {},
     "output_type": "execute_result"
    }
   ],
   "source": [
    "# Solutions;\n",
    "kmeans_versionSimpliste(data, 2, distanceEuclidienne, 10)\n",
    "kmeans_versionSimpliste(data, 5, distanceManhattan, 10)\n",
    "# notes\n",
    "#kmeans_versionSimpliste(dataSet,10,distanceEuclidienne,10)"
   ]
  },
  {
   "cell_type": "code",
   "execution_count": null,
   "metadata": {
    "collapsed": true
   },
   "outputs": [],
   "source": []
  }
 ],
 "metadata": {
  "kernelspec": {
   "display_name": "Python 2",
   "language": "python",
   "name": "python2"
  },
  "language_info": {
   "codemirror_mode": {
    "name": "ipython",
    "version": 2
   },
   "file_extension": ".py",
   "mimetype": "text/x-python",
   "name": "python",
   "nbconvert_exporter": "python",
   "pygments_lexer": "ipython2",
   "version": "2.7.12"
  }
 },
 "nbformat": 4,
 "nbformat_minor": 0
}
