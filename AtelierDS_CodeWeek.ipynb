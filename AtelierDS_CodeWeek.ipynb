{
 "cells": [
  {
   "cell_type": "markdown",
   "metadata": {},
   "source": [
    "# TOULOUSE DATA SCIENCE  Code Week\n",
    "## Atelier découverte de la Data Science\n",
    "### _N. Salaün-Penquer (trésorière TDS)_\n",
    "### _N. Decoster_\n"
   ]
  },
  {
   "cell_type": "code",
   "execution_count": 1,
   "metadata": {
    "collapsed": true
   },
   "outputs": [],
   "source": [
    "from math import *\n",
    "from decimal import Decimal \n",
    "from __future__ import division \n",
    "import random\n",
    "import csv\n",
    "from IPython.display import Image\n",
    "import matplotlib.pyplot as plt\n",
    "import numpy as np\n",
    "%matplotlib inline  "
   ]
  },
  {
   "cell_type": "markdown",
   "metadata": {},
   "source": [
    "## Classification non supervisée"
   ]
  },
  {
   "cell_type": "markdown",
   "metadata": {},
   "source": [
    "**_Définition_**: Les classifications non supervisées sont des classifications qui construisent leurs clusters en se basant uniquement sur la donnée. \n",
    "\n",
    "**_Objectifs_**: Observer, sans a priori la présence de groupes.\n",
    "\n",
    "**_Méthodes les plus connues_**: \n",
    "\n",
    "* Kmeans\n",
    "* Classification hierarchique ascendante\n",
    "* Dbscan\n",
    "* Pam\n"
   ]
  },
  {
   "cell_type": "markdown",
   "metadata": {},
   "source": [
    "### A- Kmeans"
   ]
  },
  {
   "cell_type": "code",
   "execution_count": 12,
   "metadata": {
    "collapsed": false
   },
   "outputs": [],
   "source": [
    "# Initialisation d'un data\n",
    "data = [[random.randint(1,10),random.randint(1,10)] for _ in range(20)]\n",
    "# data"
   ]
  },
  {
   "cell_type": "code",
   "execution_count": 2,
   "metadata": {
    "collapsed": false
   },
   "outputs": [
    {
     "name": "stdout",
     "output_type": "stream",
     "text": [
      "A vous de jouer!\n",
      "Mais avant: descendez qlq blocs plus bas et exécuter le bloc \"Définition des fonctions\" \n"
     ]
    }
   ],
   "source": [
    "# kmeans_versionSimpliste(dataSet,nbClusters,fonctionDistance,nbIterMax)\n",
    "# paramètres:\n",
    "    # dataSet: liste de points\n",
    "    # nbClusters: nb classes\n",
    "    # fonctionDistance: une fonction de distance -euclidienne -manhattan\n",
    "    # nbIterMax: itération max (pour éviter de tourner en rond)\n",
    "# visu6max(data,nbCluster,listeClasse)\n",
    "# paramètres:\n",
    "    # data: liste de points\n",
    "    # nbClusters: nb classes\n",
    "    # listeClasse: liste des classes \n",
    "print('A vous de jouer!')\n",
    "print('Mais avant: descendez qlq blocs plus bas et exécuter le bloc \"Définition des fonctions\" ')"
   ]
  },
  {
   "cell_type": "code",
   "execution_count": null,
   "metadata": {
    "collapsed": true
   },
   "outputs": [],
   "source": [
    "###\n",
    "# Manipulation de la fonction Kmeans et de la visualisation#\n",
    "###"
   ]
  },
  {
   "cell_type": "code",
   "execution_count": 4,
   "metadata": {
    "collapsed": true
   },
   "outputs": [],
   "source": [
    "# Exemple d'un cas pratique, un professeur souhaite construire X groupe homogène en fonction des notes des élèves\n",
    "#with open('exemple.csv', 'rb') as f:\n",
    "#    dataSet = [[int(x) for x in rec] for rec in csv.reader(f, delimiter=';')]\n",
    "#print('A vous de jouer!')"
   ]
  },
  {
   "cell_type": "code",
   "execution_count": null,
   "metadata": {
    "collapsed": true
   },
   "outputs": [],
   "source": [
    "###\n",
    "# Utilisation sur un cas réel #\n",
    "###"
   ]
  },
  {
   "cell_type": "markdown",
   "metadata": {},
   "source": [
    "## On s'y met?!\n",
    "### L'implémentation de la fonction"
   ]
  },
  {
   "cell_type": "markdown",
   "metadata": {},
   "source": [
    "Vous connaissez l'algo? A vous de jouer!"
   ]
  },
  {
   "cell_type": "code",
   "execution_count": 5,
   "metadata": {
    "collapsed": false
   },
   "outputs": [
    {
     "name": "stdout",
     "output_type": "stream",
     "text": [
      "On vous aide un peu :) \n",
      "Ajoutez les fonctions avec les bons paramètres\n",
      "Le détail des fonctions se trouve dans le bloc suivant\n"
     ]
    }
   ],
   "source": [
    "print('On vous aide un peu :) ')\n",
    "def kmeansTest(data, nbC, fonctionD, iterMax):\n",
    "    dimD=len(data[0])\n",
    "    fin=1\n",
    "    nbIteration=0\n",
    "    # Ajout de la fonction de construction des centroides \n",
    "    #centroidesInit=\n",
    "    # Boucle tant que\n",
    "    while nbIteration < iterMax and fin:\n",
    "        # fonction initialisation des classes\n",
    "        # nvClasse=\n",
    "        # fonction de classement des points (listeClasse, listeCentroides, listePoints, fonctionDistance)\n",
    "        # nvClasse= \n",
    "        # fonction de calcul du nouveau centroïde de chaque classe\n",
    "        # centroidesNv,fin=\n",
    "        # si les barycentres n'ont pas bougé\n",
    "        if centroidesNv==centroidesInit:\n",
    "            fin=0\n",
    "        if fin:\n",
    "                centroidesInit=centroidesNv\n",
    "        nbIteration+=1\n",
    "    if nbIteration==iterMax:\n",
    "        print('nb itération max')\n",
    "    return nvClasse\n",
    "print('Ajoutez les fonctions avec les bons paramètres')\n",
    "print('Le détail des fonctions se trouve dans le bloc suivant')"
   ]
  },
  {
   "cell_type": "markdown",
   "metadata": {},
   "source": [
    "**initialisationCentroides** (dim, nbClusters) : Initialise des centroïdes aléatoires (entiers compris entre 1 et 20)\n",
    "    # dim: dimension\n",
    "    # nbClusters: nb de classes choisies\n",
    "**initialisationClasses** (nbClusters): Initialise _nbClusters_ classes vides \n",
    "    # nbClusters: nb de classes choisies\n",
    "**constructionClasses** (listeClasse, listeCentroides, listePoints, fonctionDistance): construit les classes en fonction de la distance de chaque point aux centroïdes\n",
    "    # listeClasse : liste initialisée et vide des classes\n",
    "    # listeCentroides: liste des centroïdes\n",
    "    # listePoints: Data set\n",
    "    # fonctionDistance: distanceEuclidienne ou distanceManhattan\n",
    "**calculCentroides** (listeClasse): calcul les nouveaux centroïdes + vérifie qu'aucun groupe n'est vide\n",
    "    # listeClasse: classes construites\n",
    "  \n",
    "  Deux sorties: une liste de classe et un entier qui indique si une classe est vide"
   ]
  },
  {
   "cell_type": "code",
   "execution_count": 8,
   "metadata": {
    "collapsed": false
   },
   "outputs": [
    {
     "name": "stdout",
     "output_type": "stream",
     "text": [
      "Et sinon: lancez-vous dans l'implémentation des sous fonctions!\n",
      "Et on continue :) \n"
     ]
    }
   ],
   "source": [
    "print('Et sinon: lancez-vous dans l\\'implémentation des sous fonctions!')\n",
    "\n",
    "def maDistanceE(A,B):\n",
    "    return 0\n",
    "\n",
    "def maDistanceM(A,B):\n",
    "    return 0\n",
    "\n",
    "def monInitClasses(dim, nbClusters):\n",
    "    return 0\n",
    "\n",
    "print('Et on continue :) ') \n",
    "\n"
   ]
  },
  {
   "cell_type": "markdown",
   "metadata": {},
   "source": [
    "## Les limites de l'algo\n",
    "### 1- Data de type numérique (passage par des matrices de similarité)\n",
    "### 2- Nb de classes à préciser \n",
    "### 3- Construction de classes parfois différentes\n",
    "### 4- Mauvais classement pour certains types de data"
   ]
  },
  {
   "cell_type": "code",
   "execution_count": null,
   "metadata": {
    "collapsed": true
   },
   "outputs": [],
   "source": [
    "# Exemple d'un mauvais classement cf les slides"
   ]
  },
  {
   "cell_type": "markdown",
   "metadata": {},
   "source": [
    "# A exécuter : fonctions outils"
   ]
  },
  {
   "cell_type": "code",
   "execution_count": 6,
   "metadata": {
    "collapsed": false
   },
   "outputs": [
    {
     "name": "stdout",
     "output_type": "stream",
     "text": [
      "En vert la distance euclidienne\n",
      "Les autres couleurs, la distance de Mahattan\n"
     ]
    }
   ],
   "source": [
    "##################################\n",
    "#### DEFINITION DES FONCTIONS ####\n",
    "##################################\n",
    "\n",
    "def barycentre(listeP):\n",
    "    nbE=len(listeP)\n",
    "    dim=len(listeP[0])\n",
    "    centre=[0]*dim\n",
    "    for i in range (nbE):\n",
    "        for j in range(dim):\n",
    "            centre[j]+=listeP[i][j]\n",
    "            j+=1\n",
    "        i+=1\n",
    "    return [i/nbE for i in centre]\n",
    "\n",
    "# Calcul des centroides aléatoires\n",
    "def centroidesAleatoire(dim):\n",
    "    res=[]\n",
    "    for i in range(dim):\n",
    "        res+=[random.randint(1,10)]\n",
    "    return res\n",
    "\n",
    "def initialisationClasses(nbClusters):\n",
    "    return [[] for _ in range(nbClusters)]\n",
    "\n",
    "def constructionClasses(listeClasse, listeCentroides, listePoints, fonctionDistance):\n",
    "    nbC=len(listeCentroides)\n",
    "    nbP=len(listePoints)\n",
    "    for i in range(nbP):\n",
    "        # distance du point avc le premier centroide\n",
    "        d1=[fonctionDistance(listeCentroides[0],listePoints[i]),0]\n",
    "        j=1\n",
    "        while j < nbC:\n",
    "            d2=fonctionDistance(listeCentroides[j],listePoints[i])\n",
    "            if d2 < d1[0]:\n",
    "                d1=[d2,j]\n",
    "            j+=1\n",
    "        listeClasse[d1[1]]+=[listePoints[i]]\n",
    "        i+=1\n",
    "    return listeClasse\n",
    "\n",
    "def calculCentroides(listeClasse):\n",
    "    nbC=len(listeClasse)\n",
    "    nvCentroide=[]\n",
    "    ok=1\n",
    "    for i in range(nbC):\n",
    "        if len(listeClasse[i]):\n",
    "            nvCentroide+=[barycentre(listeClasse[i])]\n",
    "        else:\n",
    "            print('Une classe est vide')\n",
    "            nvCentroide+=[[ [] for _ in range(nbC)]]\n",
    "            ok=0\n",
    "    return nvCentroide, ok\n",
    "\n",
    "def initialisationCentroides(dim, nbCluster):\n",
    "    return [centroidesAleatoire(dim) for _ in range(nbCluster)]\n",
    "\n",
    "# Définition du Kmeans revoir le nb de cluster\n",
    "def kmeans_versionSimpliste(data, nbClusters, fonctionDistance, iterMax):\n",
    "    dimD=len(data[0])\n",
    "    fin=1\n",
    "    nbIteration=0\n",
    "    # fonction de construction des centroides \n",
    "    centroidesInit=initialisationCentroides(dimD,nbClusters)\n",
    "    # Boucle tant que\n",
    "    while nbIteration < iterMax and fin:\n",
    "        # fonction initialisation des classes\n",
    "        nvClasse=initialisationClasses(nbClusters)\n",
    "        # fonction de classement des points (listeClasse, listeCentroides, listePoints, fonctionDistance)\n",
    "        nvClasse= constructionClasses(nvClasse,centroidesInit,data,fonctionDistance)\n",
    "        # fonction de calcul du nouveau centroïde de chaque classe\n",
    "        centroidesNv,fin=calculCentroides(nvClasse)\n",
    "        if centroidesNv==centroidesInit:\n",
    "            fin=0\n",
    "        if fin:\n",
    "                centroidesInit=centroidesNv\n",
    "        nbIteration+=1\n",
    "    if nbIteration==iterMax:\n",
    "        print('nb itération max')\n",
    "    return nvClasse\n",
    "\n",
    "# Définition d'une fonction de distance\n",
    "# Distance Euclidienne\n",
    "# La plus basique, c'est la longeur du trait qui permet de relier deux points entre eux\n",
    "def distanceEuclidienne(A,B):\n",
    "    return sqrt(pow(B[0]-A[0],2)+pow(B[1]-A[1],2))\n",
    "# Distance de Manhattan\n",
    "# appelée aussi taxi-distance3, est la distance entre deux points parcourue par un taxi \n",
    "#lorsqu'il se déplace dans une ville où les rues sont agencées selon un réseau ou quadrillage\n",
    "def distanceManhattan(A,B):\n",
    "    return abs(B[0]-A[0])+abs(B[1]-A[1])\n",
    "# Différence entre les distances\n",
    "\n",
    "print('En vert la distance euclidienne')\n",
    "print('Les autres couleurs, la distance de Mahattan')\n",
    "# Définitions plus complètes \n",
    "def manhattan_distance(x,y):\n",
    "    return sum(abs(a-b) for a,b in zip(x,y))\n",
    "def euclidean_distance(x,y):\n",
    "    return sqrt(sum(pow(a-b,2) for a, b in zip(x, y)))\n",
    "def minkowski_distance(x,y,p_value):\n",
    "    return nth_root(sum(pow(abs(a-b),p_value) for a,b in zip(x, y)),p_value)\n",
    "\n",
    "# Définition sous fonctions\n",
    "def nth_root(value, n_root):\n",
    "    root_value = 1/float(n_root)\n",
    "    return round (Decimal(value) ** Decimal(root_value),3)\n",
    "\n",
    "# Exemples\n",
    "#print(manhattan_distance(data[1],data[0]))\n",
    "#print(euclidean_distance(data[1],data[0]))\n",
    "#print (minkowski_distance(data[1],data[0],2))\n",
    "\n",
    "# http://dataaspirant.com/2015/04/11/five-most-popular-similarity-measures-implementation-in-python/\n",
    "# Distance par mesure de cosinus et distance de Jaccard\n",
    "\n",
    "def visu6max(data,nbCluster,listeClasse):\n",
    "    nbE=len(data)\n",
    "    dim=len(data[0])\n",
    "    listeL=[[] for _ in range(dim)]\n",
    "    classeF=[]\n",
    "    for i in range(nbE):\n",
    "            for j in range(dim):\n",
    "                listeL[j]+=[data[i][j]]\n",
    "            for k in range(nbCluster):\n",
    "                if (data[i] in listeClasse[k]):\n",
    "                    classeF+=[k]\n",
    "    classeF  \n",
    "    a = np.array(listeL)\n",
    "    categories = np.array(classeF)\n",
    "    colormap = np.array(['r','g','b','y','k','pink'])\n",
    "    plt.scatter(a[0], a[1], s=100, c=colormap[categories])\n",
    "    #plt.savefig('ScatterClassPlot.png')\n",
    "    plt.show()"
   ]
  },
  {
   "cell_type": "code",
   "execution_count": null,
   "metadata": {
    "collapsed": true
   },
   "outputs": [],
   "source": [
    "## BCP de détails non vu\n",
    "# Nettoyage du Data:\n",
    "    # traitement des var incohérentes\n",
    "    # traitement des valeurs vides\n",
    "    # traitement des erreurs (encodage)\n",
    "# Stat de vérif\n",
    "# Et bien plus encore!"
   ]
  },
  {
   "cell_type": "code",
   "execution_count": null,
   "metadata": {
    "collapsed": true
   },
   "outputs": [],
   "source": [
    "# Encore mieux: scikit learn!\n",
    "# http://scikit-learn.org/stable/"
   ]
  },
  {
   "cell_type": "markdown",
   "metadata": {},
   "source": [
    "### Solutions"
   ]
  },
  {
   "cell_type": "code",
   "execution_count": 7,
   "metadata": {
    "collapsed": false
   },
   "outputs": [
    {
     "name": "stdout",
     "output_type": "stream",
     "text": [
      "Une classe est vide\n"
     ]
    },
    {
     "data": {
      "text/plain": [
       "[[],\n",
       " [[9, 8], [9, 9], [10, 10]],\n",
       " [[10, 7],\n",
       "  [8, 6],\n",
       "  [7, 8],\n",
       "  [10, 6],\n",
       "  [9, 6],\n",
       "  [4, 6],\n",
       "  [10, 4],\n",
       "  [7, 4],\n",
       "  [8, 5],\n",
       "  [3, 7]],\n",
       " [[6, 4]],\n",
       " [[4, 4], [2, 3], [1, 9], [2, 5], [1, 7], [2, 4]]]"
      ]
     },
     "execution_count": 7,
     "metadata": {},
     "output_type": "execute_result"
    }
   ],
   "source": [
    "# Solutions;\n",
    "kmeans_versionSimpliste(data, 2, distanceEuclidienne, 10)\n",
    "kmeans_versionSimpliste(data, 5, distanceManhattan, 10)\n",
    "# notes"
   ]
  },
  {
   "cell_type": "code",
   "execution_count": 10,
   "metadata": {
    "collapsed": false
   },
   "outputs": [],
   "source": [
    "#kmeans_versionSimpliste(dataSet,2,distanceEuclidienne,10)"
   ]
  },
  {
   "cell_type": "code",
   "execution_count": 13,
   "metadata": {
    "collapsed": false
   },
   "outputs": [
    {
     "data": {
      "image/png": "[encoded data removed]",
      "text/plain": [
       "<matplotlib.figure.Figure at 0xbbee8d0>"
      ]
     },
     "metadata": {},
     "output_type": "display_data"
    }
   ],
   "source": [
    "classe=kmeans_versionSimpliste(data, 3, distanceEuclidienne, 10)\n",
    "visu6max(data,3,classe)"
   ]
  },
  {
   "cell_type": "code",
   "execution_count": 10,
   "metadata": {
    "collapsed": false
   },
   "outputs": [
    {
     "name": "stdout",
     "output_type": "stream",
     "text": [
      "Pour la solution des fonctions: fouillez donc dans le bloc de définition de fonction ;) \n"
     ]
    }
   ],
   "source": [
    "print('Pour la solution des fonctions: fouillez donc dans le bloc de définition de fonction ;) ')"
   ]
  }
 ],
 "metadata": {
  "kernelspec": {
   "display_name": "Python 2",
   "language": "python",
   "name": "python2"
  },
  "language_info": {
   "codemirror_mode": {
    "name": "ipython",
    "version": 2
   },
   "file_extension": ".py",
   "mimetype": "text/x-python",
   "name": "python",
   "nbconvert_exporter": "python",
   "pygments_lexer": "ipython2",
   "version": "2.7.12"
  }
 },
 "nbformat": 4,
 "nbformat_minor": 0
}
