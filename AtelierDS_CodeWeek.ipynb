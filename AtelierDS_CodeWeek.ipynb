{
 "cells": [
  {
   "cell_type": "markdown",
   "metadata": {},
   "source": [
    "# TOULOUSE DATA SCIENCE  Code Week\n",
    "## Atelier découverte de la Data Science\n",
    "### _N. Salaün-Penquer (trésorière TDS)_\n",
    "### _N. Decoster_\n"
   ]
  },
  {
   "cell_type": "code",
   "execution_count": 18,
   "metadata": {
    "collapsed": true
   },
   "outputs": [],
   "source": [
    "from math import *\n",
    "from decimal import Decimal \n",
    "from __future__ import division \n",
    "import random\n",
    "import csv"
   ]
  },
  {
   "cell_type": "markdown",
   "metadata": {},
   "source": [
    "## Classification non supervisée"
   ]
  },
  {
   "cell_type": "markdown",
   "metadata": {},
   "source": [
    "**_Définition_**: Les classifications non supervisées sont des classifications qui construisent leurs clusters en se basant uniquement sur la donnée. \n",
    "\n",
    "**_Objectifs_**: Observer, sans a priori la présence de groupes.\n",
    "\n",
    "**_Méthodes les plus connues_**: \n",
    "\n",
    "* Kmeans\n",
    "* Classification hierarchique ascendante\n",
    "* Dbscan\n",
    "* Pam\n"
   ]
  },
  {
   "cell_type": "markdown",
   "metadata": {},
   "source": [
    "### A- Kmeans"
   ]
  },
  {
   "cell_type": "code",
   "execution_count": 2,
   "metadata": {
    "collapsed": false
   },
   "outputs": [
    {
     "name": "stdout",
     "output_type": "stream",
     "text": [
      "4\n"
     ]
    },
    {
     "data": {
      "text/plain": [
       "[[1, 2], [1, 2], [5, 0], [6, 0]]"
      ]
     },
     "execution_count": 2,
     "metadata": {},
     "output_type": "execute_result"
    }
   ],
   "source": [
    "data = [[1,2],\n",
    "        [1,2],\n",
    "        [5,0],\n",
    "        [6,0]\n",
    "        ]\n",
    "data"
   ]
  },
  {
   "cell_type": "code",
   "execution_count": null,
   "metadata": {
    "collapsed": true
   },
   "outputs": [],
   "source": [
    "# Executer Kmeans sur le dataset avec les clusters au choix\n"
   ]
  },
  {
   "cell_type": "code",
   "execution_count": null,
   "metadata": {
    "collapsed": true
   },
   "outputs": [],
   "source": [
    "# Executer la visu pour voir l'évolution des points + le CSV"
   ]
  },
  {
   "cell_type": "code",
   "execution_count": null,
   "metadata": {
    "collapsed": true
   },
   "outputs": [],
   "source": [
    "# En fonction des niveaux\n",
    "    # Fonction de distance à implémenter\n",
    "    # Algo à l'aide des fonctions\n",
    "    # Implémentation des fonctions\n",
    "# Limites de Kmeans et les erreurs\n",
    "# Aller plus loin"
   ]
  },
  {
   "cell_type": "code",
   "execution_count": 4,
   "metadata": {
    "collapsed": false
   },
   "outputs": [
    {
     "name": "stdout",
     "output_type": "stream",
     "text": [
      "3\n",
      "2.2360679775\n"
     ]
    }
   ],
   "source": [
    "# Définition d'une fonction de distance\n",
    "# Distance Euclidienne\n",
    "# La plus basique, c'est la longeur du trait qui permet de relier deux points entre eux\n",
    "def distanceEuclidienne(A,B):\n",
    "    return sqrt(pow(B[0]-A[0],2)+pow(B[1]-A[1],2))\n",
    "# Distance de Manhattan\n",
    "# appelée aussi taxi-distance3, est la distance entre deux points parcourue par un taxi \n",
    "#lorsqu'il se déplace dans une ville où les rues sont agencées selon un réseau ou quadrillage\n",
    "def distanceManhattan(A,B):\n",
    "    return abs(B[0]-A[0])+abs(B[1]-A[1])\n",
    "\n",
    "# Exemples\n",
    "print(distanceManhattan(center1,data[0]))\n",
    "print(distanceEuclidienne(center1,data[0]))"
   ]
  },
  {
   "cell_type": "code",
   "execution_count": 5,
   "metadata": {
    "collapsed": false
   },
   "outputs": [
    {
     "name": "stdout",
     "output_type": "stream",
     "text": [
      "En vert la distance euclidienne\n",
      "Les autres couleurs, la distance de Mahattan\n"
     ]
    },
    {
     "data": {
      "image/png": "[encoded data removed]",
      "text/plain": [
       "<IPython.core.display.Image object>"
      ]
     },
     "execution_count": 5,
     "metadata": {},
     "output_type": "execute_result"
    }
   ],
   "source": [
    "# Différence entre les distances\n",
    "from IPython.display import Image\n",
    "print('En vert la distance euclidienne')\n",
    "print('Les autres couleurs, la distance de Mahattan')\n",
    "Image(filename='C:\\Users\\lata\\Desktop\\image1.png')"
   ]
  },
  {
   "cell_type": "code",
   "execution_count": 6,
   "metadata": {
    "collapsed": false
   },
   "outputs": [
    {
     "name": "stdout",
     "output_type": "stream",
     "text": [
      "3\n",
      "2.2360679775\n",
      "2.236\n"
     ]
    }
   ],
   "source": [
    "# Définitions plus complètes \n",
    "def manhattan_distance(x,y):\n",
    "    return sum(abs(a-b) for a,b in zip(x,y))\n",
    "def euclidean_distance(x,y):\n",
    "    return sqrt(sum(pow(a-b,2) for a, b in zip(x, y)))\n",
    "def minkowski_distance(x,y,p_value):\n",
    "    return nth_root(sum(pow(abs(a-b),p_value) for a,b in zip(x, y)),p_value)\n",
    "\n",
    "# Définition sous fonctions\n",
    "def nth_root(value, n_root):\n",
    "    root_value = 1/float(n_root)\n",
    "    return round (Decimal(value) ** Decimal(root_value),3)\n",
    "\n",
    "# Exemples\n",
    "print(manhattan_distance(center1,data[0]))\n",
    "print(euclidean_distance(center1,data[0]))\n",
    "print (minkowski_distance(center1,data[0],2))\n",
    "\n",
    "# http://dataaspirant.com/2015/04/11/five-most-popular-similarity-measures-implementation-in-python/\n",
    "# Distance par mesure de cosinus et distance de Jaccard"
   ]
  },
  {
   "cell_type": "code",
   "execution_count": 63,
   "metadata": {
    "collapsed": false
   },
   "outputs": [],
   "source": [
    "# Fonctions nécessaires\n",
    "# Calcul des barycentres\n",
    "def barycentre(listeP):\n",
    "    nbE=len(listeP)\n",
    "    dim=len(listeP[0])\n",
    "    centre=[0]*dim\n",
    "    for i in range (nbE):\n",
    "        for j in range(dim):\n",
    "            centre[j]+=listeP[i][j]\n",
    "            j+=1\n",
    "        i+=1\n",
    "    return [i/nbE for i in centre]\n",
    "\n",
    "# Calcul des centroides aléatoires\n",
    "def centroidesAleatoire(dim):\n",
    "    res=[]\n",
    "    for i in range(dim):\n",
    "        res+=[random.randint(1,10)]\n",
    "    return res\n",
    "\n",
    "# Définition du Kmeans revoir le nb de cluster\n",
    "def kmeans_versionSimpliste(data, nbClusters, fonctionDistance, iterMax):\n",
    "    # centroïdes aléatoires\n",
    "    dim=len(data[0])\n",
    "    # fonction de construction des centroides \n",
    "    # centroides = initCentroidesAlea(dim, nbCluster)\n",
    "    centre1 = centroidesAleatoire(dim)\n",
    "    centre2 = centroidesAleatoire(dim)\n",
    "    # Calcule de la distance de chaque point avec les centroïdes\n",
    "    # Nb de points (éléments de la liste)\n",
    "    nbPoints=len(data)\n",
    "    nbIteration=0\n",
    "    \n",
    "    classe1=[]\n",
    "    classe2=[]\n",
    "    #nvCentre1 != centre1 and nvCentre2 != centre2 or\n",
    "    fin=1\n",
    "    while nbIteration < iterMax and fin:\n",
    "        # liste de classes, fonction Initialiser les classes\n",
    "        classe1=[]\n",
    "        classe2=[]\n",
    "        # Classer en fonction de la distance des centroides\n",
    "        for i in range (nbPoints):\n",
    "            distance1=fonctionDistance(centre1,data[i])\n",
    "            distance2=fonctionDistance(centre2,data[i])\n",
    "            if distance1<distance2:\n",
    "                classe1+=[data[i]]\n",
    "            else:\n",
    "                classe2+=[data[i]]\n",
    "            i+=1\n",
    "        # Calcule du nouveau centroïde de chaque classe\n",
    "        #Nb points dans la classe 1\n",
    "        if len(classe1)>0 and len(classe2)>0:\n",
    "            # repositionner les centres de classe\n",
    "            nvCentre1=barycentre(classe1)\n",
    "            nvCentre2=barycentre(classe2)\n",
    "            if nvCentre1==centre1 and nvCentre2==centre2:\n",
    "                fin=0\n",
    "                print('les centroïdes sont immobiles')\n",
    "            else:\n",
    "                centre1=nvCentre1\n",
    "                centre2=nvCentre2\n",
    "        else:\n",
    "            fin=0\n",
    "            print('une des classes est vide')\n",
    "\n",
    "        nbIteration+=1\n",
    "    return classe1, classe2"
   ]
  },
  {
   "cell_type": "code",
   "execution_count": 62,
   "metadata": {
    "collapsed": false
   },
   "outputs": [
    {
     "name": "stdout",
     "output_type": "stream",
     "text": [
      "les centroïdes sont immobiles\n"
     ]
    },
    {
     "data": {
      "text/plain": [
       "([[5, 0], [6, 0]], [[1, 2], [1, 2]])"
      ]
     },
     "execution_count": 62,
     "metadata": {},
     "output_type": "execute_result"
    }
   ],
   "source": [
    "kmeans_versionSimpliste(data,2,distanceManhattan)"
   ]
  },
  {
   "cell_type": "code",
   "execution_count": 92,
   "metadata": {
    "collapsed": false
   },
   "outputs": [
    {
     "data": {
      "text/plain": [
       "[8, 20]"
      ]
     },
     "execution_count": 92,
     "metadata": {},
     "output_type": "execute_result"
    }
   ],
   "source": [
    "# Exemple sur des notes d'élèves philosophie et mathématiques\n",
    "with open('C:\\Users\\lata\\Desktop\\exemple.csv', 'rb') as f:\n",
    "    dataSet = [[int(x) for x in rec] for rec in csv.reader(f, delimiter=';')]\n",
    "print(dataSet)\n",
    "# Nettoyage du Data:\n",
    "    # traitement des var incohérentes\n",
    "    # traitement des valeurs vides\n",
    "    # traitement des erreurs (encodage)\n",
    "# Stat de vérif\n",
    "print(####### KMEANS ########)\n",
    "kmeans_versionSimpliste(dataSet,2,distanceManhattan)"
   ]
  },
  {
   "cell_type": "code",
   "execution_count": 94,
   "metadata": {
    "collapsed": false
   },
   "outputs": [],
   "source": [
    "# Visualisation\n",
    "# Projection de points"
   ]
  },
  {
   "cell_type": "code",
   "execution_count": 95,
   "metadata": {
    "collapsed": true
   },
   "outputs": [],
   "source": [
    "# Limites de Kmeans: calcul de distance donc données numériques ou calcul à partir d'une matrice de similarité\n",
    "# Gpes différents parfois\n",
    "# Choix du nb de groupe à l'utilisateur\n",
    "# Certaines configurations mal classées Mauvaise prise en compte des valeurs extrêmes"
   ]
  },
  {
   "cell_type": "code",
   "execution_count": null,
   "metadata": {
    "collapsed": true
   },
   "outputs": [],
   "source": [
    "# Exemple d'un mauvais classement\n",
    "# Ouverture vers Scikit Learn"
   ]
  },
  {
   "cell_type": "code",
   "execution_count": null,
   "metadata": {
    "collapsed": true
   },
   "outputs": [],
   "source": [
    "# Ajouter la notion de similarité"
   ]
  },
  {
   "cell_type": "markdown",
   "metadata": {},
   "source": [
    "### DBSCAN\n",
    "L'algorithme DBSCAN utilise 2 paramètres : la distance {\\displaystyle \\epsilon } \\epsilon  et le nombre minimum de points {\\displaystyle MinPts} MinPts devant se trouver dans un rayon {\\displaystyle \\epsilon } \\epsilon  pour que ces points soient considérés comme un cluster. Les paramètres d'entrées sont donc une estimation de la densité de points des clusters. L'idée de base de l'algorithme est ensuite, pour un point donné, de récupérer son {\\displaystyle \\epsilon } \\epsilon -voisinage et de vérifier qu'il contient bien MinPts points ou plus. Ce point est alors considéré comme faisant partie d'un cluster. On parcourt ensuite l' {\\displaystyle \\epsilon } \\epsilon -voisinage de proche en proche afin de trouver l'ensemble des points du cluster."
   ]
  },
  {
   "cell_type": "code",
   "execution_count": null,
   "metadata": {
    "collapsed": true
   },
   "outputs": [],
   "source": [
    "# Premier exo : utiliser la fonction des Kmeans avec un data set fourni\n",
    "# "
   ]
  }
 ],
 "metadata": {
  "kernelspec": {
   "display_name": "Python 2",
   "language": "python",
   "name": "python2"
  },
  "language_info": {
   "codemirror_mode": {
    "name": "ipython",
    "version": 2
   },
   "file_extension": ".py",
   "mimetype": "text/x-python",
   "name": "python",
   "nbconvert_exporter": "python",
   "pygments_lexer": "ipython2",
   "version": "2.7.11"
  }
 },
 "nbformat": 4,
 "nbformat_minor": 0
}
